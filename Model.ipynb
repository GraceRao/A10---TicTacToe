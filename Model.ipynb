{
 "cells": [
  {
   "cell_type": "code",
   "execution_count": 1,
   "metadata": {},
   "outputs": [
    {
     "name": "stdout",
     "output_type": "stream",
     "text": [
      "Descriptive Statistics:\n",
      "       move_count  first_loc\n",
      "count   30.000000  30.000000\n",
      "mean     6.233333   3.666667\n",
      "std      1.675036   2.832488\n",
      "min      5.000000   0.000000\n",
      "25%      5.000000   1.000000\n",
      "50%      5.000000   4.000000\n",
      "75%      7.750000   6.000000\n",
      "max      9.000000   8.000000\n"
     ]
    }
   ],
   "source": [
    "import pandas as pd\n",
    "from sklearn.model_selection import train_test_split\n",
    "from sklearn.linear_model import LinearRegression\n",
    "import numpy as np\n",
    "\n",
    "\n",
    "# Read the file\n",
    "file_path = 'game_log_1.csv'  # Replace with your file path\n",
    "df = pd.read_csv(file_path)\n",
    "\n",
    "# Descriptive statistics of move count and first loc\n",
    "descriptive_stats = df[['move_count', 'first_loc']].describe()\n",
    "\n",
    "# Print descriptive statistics\n",
    "print(\"Descriptive Statistics:\")\n",
    "print(descriptive_stats)\n"
   ]
  },
  {
   "cell_type": "markdown",
   "metadata": {},
   "source": []
  },
  {
   "cell_type": "code",
   "execution_count": 2,
   "metadata": {},
   "outputs": [
    {
     "name": "stdout",
     "output_type": "stream",
     "text": [
      "Model Coefficient: [-0.06372549]\n",
      "Model Intercept: 0.642156862745098\n",
      "Model R2: 0.0\n",
      "Model MSE: 0.23551038062283744\n",
      "Likelihood of Winning for Each Position Type:\n",
      "Position Type 0: 0.642156862745098\n",
      "Position Type 1: 0.5784313725490196\n",
      "Position Type 2: 0.5147058823529411\n"
     ]
    }
   ],
   "source": [
    "# Encode positions\n",
    "import warnings\n",
    "warnings.filterwarnings('ignore')\n",
    "from sklearn.model_selection import train_test_split\n",
    "from sklearn.metrics import mean_squared_error, r2_score\n",
    "position_mapping = {0: 0, 2: 0, 6: 0, 8: 0,  # Corners\n",
    "                    4: 1,                     # Center\n",
    "                    1: 2, 3: 2, 5: 2, 7: 2}   # Edges\n",
    "\n",
    "df['position_type'] = df['first_loc'].map(position_mapping)\n",
    "\n",
    "# Convert the winner to numerical values\n",
    "df['winner'] = df['winner'].map({'X': 1, 'O': -1, 'draw': 0})\n",
    "\n",
    "# Split the dataset\n",
    "X = df[['position_type']]\n",
    "y = df['winner']\n",
    "\n",
    "X_train, X_test, y_train, y_test = train_test_split(X, y, test_size=0.1, random_state=42)\n",
    "\n",
    "# Build the model\n",
    "model = LinearRegression()\n",
    "model.fit(X_train, y_train)\n",
    "\n",
    "y_pred = model.predict(X_test)\n",
    "\n",
    "# Output model parameters\n",
    "print(f\"Model Coefficient: {model.coef_}\")\n",
    "print(f\"Model Intercept: {model.intercept_}\")\n",
    "\n",
    "# Evaluate the model, r2, mse\n",
    "print(f\"Model R2: {r2_score(y_test, y_pred)}\")\n",
    "print(f\"Model MSE: {mean_squared_error(y_test, y_pred)}\")\n",
    "\n",
    "# Predict the likelihood of winning for each position type\n",
    "position_types = np.array([0, 1, 2]).reshape(-1, 1)\n",
    "predictions = model.predict(position_types)\n",
    "\n",
    "print(\"Likelihood of Winning for Each Position Type:\")\n",
    "for pt, prediction in zip(position_types, predictions):\n",
    "    print(f\"Position Type {pt[0]}: {prediction}\")\n"
   ]
  }
 ],
 "metadata": {
  "kernelspec": {
   "display_name": "base",
   "language": "python",
   "name": "python3"
  },
  "language_info": {
   "codemirror_mode": {
    "name": "ipython",
    "version": 3
   },
   "file_extension": ".py",
   "mimetype": "text/x-python",
   "name": "python",
   "nbconvert_exporter": "python",
   "pygments_lexer": "ipython3",
   "version": "3.8.5"
  }
 },
 "nbformat": 4,
 "nbformat_minor": 2
}
